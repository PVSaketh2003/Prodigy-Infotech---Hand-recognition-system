{
  "metadata": {
    "kernelspec": {
      "language": "python",
      "display_name": "Python 3",
      "name": "python3"
    },
    "language_info": {
      "name": "python",
      "version": "3.10.13",
      "mimetype": "text/x-python",
      "codemirror_mode": {
        "name": "ipython",
        "version": 3
      },
      "pygments_lexer": "ipython3",
      "nbconvert_exporter": "python",
      "file_extension": ".py"
    },
    "kaggle": {
      "accelerator": "none",
      "dataSources": [
        {
          "sourceId": 1936735,
          "sourceType": "datasetVersion",
          "datasetId": 1153694
        }
      ],
      "dockerImageVersionId": 30746,
      "isInternetEnabled": false,
      "language": "python",
      "sourceType": "notebook",
      "isGpuEnabled": false
    },
    "colab": {
      "provenance": []
    }
  },
  "nbformat_minor": 0,
  "nbformat": 4,
  "cells": [
    {
      "cell_type": "code",
      "source": [
        "import os\n",
        "import pandas as pd\n",
        "import numpy as np\n",
        "import matplotlib.pyplot as plt\n",
        "import tensorflow\n",
        "from tensorflow import keras\n",
        "from tensorflow.keras.models import Sequential\n",
        "from tensorflow.keras.layers import Dense, Conv2D , MaxPool2D , Flatten , Dropout , BatchNormalization\n",
        "from tensorflow.keras.preprocessing.image import ImageDataGenerator\n",
        "from sklearn.model_selection import train_test_split\n",
        "from sklearn.metrics import classification_report,confusion_matrix\n",
        "from tensorflow.keras.callbacks import ReduceLROnPlateau\n",
        "import cv2 as cv\n",
        "import h5py"
      ],
      "metadata": {
        "_uuid": "8f2839f25d086af736a60e9eeb907d3b93b6e0e5",
        "_cell_guid": "b1076dfc-b9ad-4769-8c92-a6c4dae69d19",
        "execution": {
          "iopub.status.busy": "2024-07-28T13:48:08.112558Z",
          "iopub.execute_input": "2024-07-28T13:48:08.112920Z",
          "iopub.status.idle": "2024-07-28T13:48:22.055235Z",
          "shell.execute_reply.started": "2024-07-28T13:48:08.112892Z",
          "shell.execute_reply": "2024-07-28T13:48:22.054330Z"
        },
        "trusted": true,
        "id": "ESxI-m3V6_ft",
        "outputId": "359f74b9-7014-4ff0-b9d0-3785064fd422"
      },
      "execution_count": null,
      "outputs": [
        {
          "name": "stderr",
          "text": "2024-07-28 13:48:10.490061: E external/local_xla/xla/stream_executor/cuda/cuda_dnn.cc:9261] Unable to register cuDNN factory: Attempting to register factory for plugin cuDNN when one has already been registered\n2024-07-28 13:48:10.490181: E external/local_xla/xla/stream_executor/cuda/cuda_fft.cc:607] Unable to register cuFFT factory: Attempting to register factory for plugin cuFFT when one has already been registered\n2024-07-28 13:48:10.649342: E external/local_xla/xla/stream_executor/cuda/cuda_blas.cc:1515] Unable to register cuBLAS factory: Attempting to register factory for plugin cuBLAS when one has already been registered\n",
          "output_type": "stream"
        }
      ]
    },
    {
      "cell_type": "markdown",
      "source": [
        "Dataset link - **https://www.kaggle.com/datasets/aryarishabh/hand-gesture-recognition-dataset/code**"
      ],
      "metadata": {
        "id": "mlYBL2Ih7Deo"
      }
    },
    {
      "cell_type": "code",
      "source": [
        "labels = ['call_me','fingers_crossed','up','okay','paper','rock','rock_on','scissor','peace','thumbs']\n",
        "x_signs = []\n",
        "y_signs = []\n",
        "path = '../input/hand-gesture-recognition/HandGesture/images'\n",
        "for i in os.listdir(path):\n",
        "    for j in os.listdir(path + \"/\" + i):\n",
        "        img =  cv.imread(path + \"/\" + i + '/' + j,0)\n",
        "        img =  cv.resize(img,(64,64),interpolation = cv.INTER_AREA)\n",
        "        img = np.array(img)\n",
        "        x_signs.append(img)\n",
        "        y_signs.append(labels.index(i))"
      ],
      "metadata": {
        "execution": {
          "iopub.status.busy": "2024-07-28T13:48:22.056986Z",
          "iopub.execute_input": "2024-07-28T13:48:22.057573Z",
          "iopub.status.idle": "2024-07-28T13:48:39.718350Z",
          "shell.execute_reply.started": "2024-07-28T13:48:22.057544Z",
          "shell.execute_reply": "2024-07-28T13:48:39.717402Z"
        },
        "trusted": true,
        "id": "uTaXIthg6_fz"
      },
      "execution_count": null,
      "outputs": []
    },
    {
      "cell_type": "code",
      "source": [
        "x = np.array(x_signs)\n",
        "x.shape"
      ],
      "metadata": {
        "execution": {
          "iopub.status.busy": "2024-07-28T13:48:39.719583Z",
          "iopub.execute_input": "2024-07-28T13:48:39.719979Z",
          "iopub.status.idle": "2024-07-28T13:48:39.741854Z",
          "shell.execute_reply.started": "2024-07-28T13:48:39.719945Z",
          "shell.execute_reply": "2024-07-28T13:48:39.740825Z"
        },
        "trusted": true,
        "id": "qETp3GwR6_f0",
        "outputId": "78459ed6-59a4-4dfe-c1d5-7f31aa3f5e63"
      },
      "execution_count": null,
      "outputs": [
        {
          "execution_count": 4,
          "output_type": "execute_result",
          "data": {
            "text/plain": "(5243, 64, 64)"
          },
          "metadata": {}
        }
      ]
    },
    {
      "cell_type": "code",
      "source": [
        "X = np.array(x_signs)\n",
        "Y = np.array(y_signs)\n",
        "from sklearn.model_selection import train_test_split\n",
        "x_train, x_test, y_train, y_test = train_test_split(X, Y, train_size=0.75, random_state = 42)"
      ],
      "metadata": {
        "execution": {
          "iopub.status.busy": "2024-07-28T13:48:39.743143Z",
          "iopub.execute_input": "2024-07-28T13:48:39.743872Z",
          "iopub.status.idle": "2024-07-28T13:48:39.777832Z",
          "shell.execute_reply.started": "2024-07-28T13:48:39.743834Z",
          "shell.execute_reply": "2024-07-28T13:48:39.776750Z"
        },
        "trusted": true,
        "id": "4_v6UgAA6_f2"
      },
      "execution_count": null,
      "outputs": []
    },
    {
      "cell_type": "code",
      "source": [
        "x_train.shape"
      ],
      "metadata": {
        "execution": {
          "iopub.status.busy": "2024-07-28T13:48:39.780455Z",
          "iopub.execute_input": "2024-07-28T13:48:39.780789Z",
          "iopub.status.idle": "2024-07-28T13:48:39.786831Z",
          "shell.execute_reply.started": "2024-07-28T13:48:39.780763Z",
          "shell.execute_reply": "2024-07-28T13:48:39.785853Z"
        },
        "trusted": true,
        "id": "6_iCgAb36_f4",
        "outputId": "0d3c2bc1-2eea-4ba4-8c27-302d11fa82ec"
      },
      "execution_count": null,
      "outputs": [
        {
          "execution_count": 6,
          "output_type": "execute_result",
          "data": {
            "text/plain": "(3932, 64, 64)"
          },
          "metadata": {}
        }
      ]
    },
    {
      "cell_type": "code",
      "source": [
        "y_train.shape"
      ],
      "metadata": {
        "execution": {
          "iopub.status.busy": "2024-07-28T13:48:39.787987Z",
          "iopub.execute_input": "2024-07-28T13:48:39.788296Z",
          "iopub.status.idle": "2024-07-28T13:48:39.799984Z",
          "shell.execute_reply.started": "2024-07-28T13:48:39.788271Z",
          "shell.execute_reply": "2024-07-28T13:48:39.798969Z"
        },
        "trusted": true,
        "id": "-p02hnW_6_f4",
        "outputId": "39eb2f7c-4ff0-43eb-8cdd-92111e82291e"
      },
      "execution_count": null,
      "outputs": [
        {
          "execution_count": 7,
          "output_type": "execute_result",
          "data": {
            "text/plain": "(3932,)"
          },
          "metadata": {}
        }
      ]
    },
    {
      "cell_type": "code",
      "source": [
        "x_train[11].shape"
      ],
      "metadata": {
        "execution": {
          "iopub.status.busy": "2024-07-28T13:48:39.801274Z",
          "iopub.execute_input": "2024-07-28T13:48:39.801649Z",
          "iopub.status.idle": "2024-07-28T13:48:39.812247Z",
          "shell.execute_reply.started": "2024-07-28T13:48:39.801622Z",
          "shell.execute_reply": "2024-07-28T13:48:39.811178Z"
        },
        "trusted": true,
        "id": "WahQ6mF36_f6",
        "outputId": "0e69d979-0510-4e31-eae0-9e932eb03b25"
      },
      "execution_count": null,
      "outputs": [
        {
          "execution_count": 8,
          "output_type": "execute_result",
          "data": {
            "text/plain": "(64, 64)"
          },
          "metadata": {}
        }
      ]
    },
    {
      "cell_type": "code",
      "source": [
        "train_x = []\n",
        "train_y = []\n",
        "for i in range(len(x_train)):\n",
        "    _, bw_image = cv.threshold(x_train[i], 120, 255, cv.THRESH_BINARY)\n",
        "    y = y_train[i]\n",
        "    # orginal image\n",
        "    train_x.append(bw_image)\n",
        "    train_y.append(y)\n",
        "\n",
        "    #rotate 100 degree\n",
        "    train_x.append(cv.flip(bw_image,1))\n",
        "    train_y.append(y)\n",
        "train_x  = np.array(train_x)\n",
        "train_y  = np.array(train_y)"
      ],
      "metadata": {
        "execution": {
          "iopub.status.busy": "2024-07-28T13:48:39.813577Z",
          "iopub.execute_input": "2024-07-28T13:48:39.814383Z",
          "iopub.status.idle": "2024-07-28T13:48:39.899470Z",
          "shell.execute_reply.started": "2024-07-28T13:48:39.814343Z",
          "shell.execute_reply": "2024-07-28T13:48:39.898380Z"
        },
        "trusted": true,
        "id": "1BJdOWNL6_f7"
      },
      "execution_count": null,
      "outputs": []
    },
    {
      "cell_type": "code",
      "source": [
        "test_x = []\n",
        "test_y = []\n",
        "for i in range(len(x_test)):\n",
        "    _, bw_image = cv.threshold(x_test[i], 120, 255, cv.THRESH_BINARY)\n",
        "    y = y_test[i]\n",
        "    # orginal image\n",
        "    test_x.append(bw_image)\n",
        "    test_y.append(y)\n",
        "    #rotate 90 degree\n",
        "    test_x.append(cv.flip(bw_image,1))\n",
        "    test_y.append(y)\n",
        "test_x = np.array(test_x)\n",
        "test_y = np.array(test_y)"
      ],
      "metadata": {
        "execution": {
          "iopub.status.busy": "2024-07-28T13:48:39.900771Z",
          "iopub.execute_input": "2024-07-28T13:48:39.901100Z",
          "iopub.status.idle": "2024-07-28T13:48:39.920625Z",
          "shell.execute_reply.started": "2024-07-28T13:48:39.901072Z",
          "shell.execute_reply": "2024-07-28T13:48:39.919661Z"
        },
        "trusted": true,
        "id": "eH9tBw9f6_f7"
      },
      "execution_count": null,
      "outputs": []
    },
    {
      "cell_type": "code",
      "source": [
        "from sklearn.preprocessing import LabelBinarizer"
      ],
      "metadata": {
        "execution": {
          "iopub.status.busy": "2024-07-28T13:48:39.921666Z",
          "iopub.execute_input": "2024-07-28T13:48:39.921956Z",
          "iopub.status.idle": "2024-07-28T13:48:39.926572Z",
          "shell.execute_reply.started": "2024-07-28T13:48:39.921933Z",
          "shell.execute_reply": "2024-07-28T13:48:39.925567Z"
        },
        "trusted": true,
        "id": "nu6-sP3L6_f8"
      },
      "execution_count": null,
      "outputs": []
    },
    {
      "cell_type": "code",
      "source": [
        "label_binarizer = LabelBinarizer()"
      ],
      "metadata": {
        "execution": {
          "iopub.status.busy": "2024-07-28T13:48:39.927985Z",
          "iopub.execute_input": "2024-07-28T13:48:39.928368Z",
          "iopub.status.idle": "2024-07-28T13:48:39.936283Z",
          "shell.execute_reply.started": "2024-07-28T13:48:39.928333Z",
          "shell.execute_reply": "2024-07-28T13:48:39.935369Z"
        },
        "trusted": true,
        "id": "tfSIrE3o6_f9"
      },
      "execution_count": null,
      "outputs": []
    },
    {
      "cell_type": "code",
      "source": [
        "y_train = label_binarizer.fit_transform(train_y)\n",
        "y_test = label_binarizer.fit_transform(test_y)"
      ],
      "metadata": {
        "execution": {
          "iopub.status.busy": "2024-07-28T13:48:39.937466Z",
          "iopub.execute_input": "2024-07-28T13:48:39.937765Z",
          "iopub.status.idle": "2024-07-28T13:48:39.958435Z",
          "shell.execute_reply.started": "2024-07-28T13:48:39.937741Z",
          "shell.execute_reply": "2024-07-28T13:48:39.957509Z"
        },
        "trusted": true,
        "id": "c33KWdk06_f-"
      },
      "execution_count": null,
      "outputs": []
    },
    {
      "cell_type": "code",
      "source": [
        "y_train[:7]"
      ],
      "metadata": {
        "execution": {
          "iopub.status.busy": "2024-07-28T13:48:39.960408Z",
          "iopub.execute_input": "2024-07-28T13:48:39.960884Z",
          "iopub.status.idle": "2024-07-28T13:48:39.967443Z",
          "shell.execute_reply.started": "2024-07-28T13:48:39.960848Z",
          "shell.execute_reply": "2024-07-28T13:48:39.966472Z"
        },
        "trusted": true,
        "id": "aU3HopZg6_f-",
        "outputId": "551b5578-af9e-4a16-91e2-5294f0be7aa3"
      },
      "execution_count": null,
      "outputs": [
        {
          "execution_count": 14,
          "output_type": "execute_result",
          "data": {
            "text/plain": "array([[0, 0, 0, 1, 0, 0, 0, 0, 0, 0],\n       [0, 0, 0, 1, 0, 0, 0, 0, 0, 0],\n       [0, 0, 0, 0, 0, 0, 0, 0, 0, 1],\n       [0, 0, 0, 0, 0, 0, 0, 0, 0, 1],\n       [0, 0, 0, 0, 0, 0, 1, 0, 0, 0],\n       [0, 0, 0, 0, 0, 0, 1, 0, 0, 0],\n       [0, 0, 0, 0, 1, 0, 0, 0, 0, 0]])"
          },
          "metadata": {}
        }
      ]
    },
    {
      "cell_type": "code",
      "source": [
        "x_train = train_x.reshape(-1,64,64,1)\n",
        "x_test = test_x.reshape(-1,64,64,1)"
      ],
      "metadata": {
        "execution": {
          "iopub.status.busy": "2024-07-28T13:48:39.970739Z",
          "iopub.execute_input": "2024-07-28T13:48:39.971073Z",
          "iopub.status.idle": "2024-07-28T13:48:39.978031Z",
          "shell.execute_reply.started": "2024-07-28T13:48:39.971046Z",
          "shell.execute_reply": "2024-07-28T13:48:39.977162Z"
        },
        "trusted": true,
        "id": "54Z29mko6_f_"
      },
      "execution_count": null,
      "outputs": []
    },
    {
      "cell_type": "code",
      "source": [
        "x_train.shape"
      ],
      "metadata": {
        "execution": {
          "iopub.status.busy": "2024-07-28T13:48:39.979157Z",
          "iopub.execute_input": "2024-07-28T13:48:39.979475Z",
          "iopub.status.idle": "2024-07-28T13:48:39.990839Z",
          "shell.execute_reply.started": "2024-07-28T13:48:39.979451Z",
          "shell.execute_reply": "2024-07-28T13:48:39.989813Z"
        },
        "trusted": true,
        "id": "VJB4GCoG6_f_",
        "outputId": "46cf420c-f702-4a98-bd6b-04f2271afc66"
      },
      "execution_count": null,
      "outputs": [
        {
          "execution_count": 16,
          "output_type": "execute_result",
          "data": {
            "text/plain": "(7864, 64, 64, 1)"
          },
          "metadata": {}
        }
      ]
    },
    {
      "cell_type": "code",
      "source": [
        "data_generator = ImageDataGenerator(\n",
        "    rotation_range = 0.1,\n",
        "    zoom_range = 0.1,\n",
        "    width_shift_range=0.1,\n",
        "    height_shift_range=0.1\n",
        ")"
      ],
      "metadata": {
        "execution": {
          "iopub.status.busy": "2024-07-28T13:48:39.992017Z",
          "iopub.execute_input": "2024-07-28T13:48:39.992370Z",
          "iopub.status.idle": "2024-07-28T13:48:40.000654Z",
          "shell.execute_reply.started": "2024-07-28T13:48:39.992336Z",
          "shell.execute_reply": "2024-07-28T13:48:39.999605Z"
        },
        "trusted": true,
        "id": "u-kfPCcP6_gA"
      },
      "execution_count": null,
      "outputs": []
    },
    {
      "cell_type": "code",
      "source": [
        "data_generator.fit(x_train)"
      ],
      "metadata": {
        "execution": {
          "iopub.status.busy": "2024-07-28T13:48:40.001921Z",
          "iopub.execute_input": "2024-07-28T13:48:40.002235Z",
          "iopub.status.idle": "2024-07-28T13:48:40.116397Z",
          "shell.execute_reply.started": "2024-07-28T13:48:40.002210Z",
          "shell.execute_reply": "2024-07-28T13:48:40.115463Z"
        },
        "trusted": true,
        "id": "rxdv-VCX6_gA"
      },
      "execution_count": null,
      "outputs": []
    },
    {
      "cell_type": "code",
      "source": [
        "len(labels)"
      ],
      "metadata": {
        "execution": {
          "iopub.status.busy": "2024-07-28T13:48:40.117471Z",
          "iopub.execute_input": "2024-07-28T13:48:40.117755Z",
          "iopub.status.idle": "2024-07-28T13:48:40.123445Z",
          "shell.execute_reply.started": "2024-07-28T13:48:40.117733Z",
          "shell.execute_reply": "2024-07-28T13:48:40.122569Z"
        },
        "trusted": true,
        "id": "Vrpzvtvg6_gA",
        "outputId": "3eddc2e3-d87b-49a6-8d75-e83579ba26fd"
      },
      "execution_count": null,
      "outputs": [
        {
          "execution_count": 19,
          "output_type": "execute_result",
          "data": {
            "text/plain": "10"
          },
          "metadata": {}
        }
      ]
    },
    {
      "cell_type": "code",
      "source": [
        "model = Sequential()\n",
        "#first layer\n",
        "model.add(Conv2D(75,(3,3),strides=1,padding='same',activation='relu',input_shape = (64,64,1)))\n",
        "model.add(BatchNormalization())\n",
        "model.add(MaxPool2D((2,2),strides=2, padding='same'))\n",
        "#second layer\n",
        "model.add(Conv2D(50,(3,3),strides=1,padding='same',activation='relu'))\n",
        "model.add(Dropout(0.2))\n",
        "model.add(BatchNormalization())\n",
        "model.add(MaxPool2D((2,2),strides=2, padding='same'))\n",
        "#third layer\n",
        "model.add(Conv2D(25,(3,3),strides=1,padding='same',activation='relu'))\n",
        "model.add(BatchNormalization())\n",
        "model.add(MaxPool2D((2,2),strides=2, padding='same'))\n",
        "#flatten\n",
        "model.add(Flatten())\n",
        "#First fully connected layer\n",
        "model.add(Dense(units=512,activation='relu'))\n",
        "model.add(Dropout(0.3))\n",
        "#Second fully connected layer\n",
        "model.add(Dense(units=10,activation='softmax'))"
      ],
      "metadata": {
        "execution": {
          "iopub.status.busy": "2024-07-28T13:48:40.124762Z",
          "iopub.execute_input": "2024-07-28T13:48:40.125055Z",
          "iopub.status.idle": "2024-07-28T13:48:40.350984Z",
          "shell.execute_reply.started": "2024-07-28T13:48:40.125031Z",
          "shell.execute_reply": "2024-07-28T13:48:40.349939Z"
        },
        "trusted": true,
        "id": "VKDOBJkZ6_gB",
        "outputId": "f0ff25a3-7fe5-45a7-adcb-e05ae735583d"
      },
      "execution_count": null,
      "outputs": [
        {
          "name": "stderr",
          "text": "/opt/conda/lib/python3.10/site-packages/keras/src/layers/convolutional/base_conv.py:107: UserWarning: Do not pass an `input_shape`/`input_dim` argument to a layer. When using Sequential models, prefer using an `Input(shape)` object as the first layer in the model instead.\n  super().__init__(activity_regularizer=activity_regularizer, **kwargs)\n",
          "output_type": "stream"
        }
      ]
    },
    {
      "cell_type": "code",
      "source": [
        "tensorflow.debugging.set_log_device_placement(True)"
      ],
      "metadata": {
        "execution": {
          "iopub.status.busy": "2024-07-28T13:48:40.352299Z",
          "iopub.execute_input": "2024-07-28T13:48:40.352715Z",
          "iopub.status.idle": "2024-07-28T13:48:40.358072Z",
          "shell.execute_reply.started": "2024-07-28T13:48:40.352679Z",
          "shell.execute_reply": "2024-07-28T13:48:40.356927Z"
        },
        "trusted": true,
        "id": "dvfZna9w6_gC"
      },
      "execution_count": null,
      "outputs": []
    },
    {
      "cell_type": "code",
      "source": [
        "model.compile(optimizer='adam',loss = 'categorical_crossentropy', metrics=['accuracy'])"
      ],
      "metadata": {
        "execution": {
          "iopub.status.busy": "2024-07-28T13:48:40.359332Z",
          "iopub.execute_input": "2024-07-28T13:48:40.359628Z",
          "iopub.status.idle": "2024-07-28T13:48:40.379239Z",
          "shell.execute_reply.started": "2024-07-28T13:48:40.359603Z",
          "shell.execute_reply": "2024-07-28T13:48:40.378377Z"
        },
        "trusted": true,
        "id": "Wv21oPoX6_gD"
      },
      "execution_count": null,
      "outputs": []
    },
    {
      "cell_type": "code",
      "source": [
        "learning_rate_reduction = ReduceLROnPlateau(monitor='val_accuracy', factor=0.5,verbose=1,patience=2, min_lr=0.00001)"
      ],
      "metadata": {
        "execution": {
          "iopub.status.busy": "2024-07-28T13:48:40.380382Z",
          "iopub.execute_input": "2024-07-28T13:48:40.380683Z",
          "iopub.status.idle": "2024-07-28T13:48:40.385247Z",
          "shell.execute_reply.started": "2024-07-28T13:48:40.380659Z",
          "shell.execute_reply": "2024-07-28T13:48:40.384266Z"
        },
        "trusted": true,
        "id": "EsAkJGSO6_gD"
      },
      "execution_count": null,
      "outputs": []
    },
    {
      "cell_type": "code",
      "source": [
        "model.fit(data_generator.flow(x_train,y_train,batch_size = 128),epochs=10,validation_data=(x_test,y_test),callbacks=[learning_rate_reduction])"
      ],
      "metadata": {
        "execution": {
          "iopub.status.busy": "2024-07-28T13:48:40.386478Z",
          "iopub.execute_input": "2024-07-28T13:48:40.386779Z",
          "iopub.status.idle": "2024-07-28T14:04:43.324024Z",
          "shell.execute_reply.started": "2024-07-28T13:48:40.386739Z",
          "shell.execute_reply": "2024-07-28T14:04:43.322977Z"
        },
        "trusted": true,
        "id": "5ySphv2q6_gD",
        "outputId": "077e1d75-87e1-4e9a-cd9c-cde26ff6ebbb"
      },
      "execution_count": null,
      "outputs": [
        {
          "name": "stdout",
          "text": "Epoch 1/10\n",
          "output_type": "stream"
        },
        {
          "name": "stderr",
          "text": "/opt/conda/lib/python3.10/site-packages/keras/src/trainers/data_adapters/py_dataset_adapter.py:121: UserWarning: Your `PyDataset` class should call `super().__init__(**kwargs)` in its constructor. `**kwargs` can include `workers`, `use_multiprocessing`, `max_queue_size`. Do not pass these arguments to `fit()`, as they will be ignored.\n  self._warn_if_super_not_called()\n",
          "output_type": "stream"
        },
        {
          "name": "stdout",
          "text": "\u001b[1m62/62\u001b[0m \u001b[32m━━━━━━━━━━━━━━━━━━━━\u001b[0m\u001b[37m\u001b[0m \u001b[1m94s\u001b[0m 1s/step - accuracy: 0.4539 - loss: 2.0613 - val_accuracy: 0.2170 - val_loss: 6.3081 - learning_rate: 0.0010\nEpoch 2/10\n\u001b[1m62/62\u001b[0m \u001b[32m━━━━━━━━━━━━━━━━━━━━\u001b[0m\u001b[37m\u001b[0m \u001b[1m91s\u001b[0m 1s/step - accuracy: 0.8782 - loss: 0.3791 - val_accuracy: 0.7201 - val_loss: 0.8808 - learning_rate: 0.0010\nEpoch 3/10\n\u001b[1m62/62\u001b[0m \u001b[32m━━━━━━━━━━━━━━━━━━━━\u001b[0m\u001b[37m\u001b[0m \u001b[1m91s\u001b[0m 1s/step - accuracy: 0.9311 - loss: 0.2107 - val_accuracy: 0.9741 - val_loss: 0.0890 - learning_rate: 0.0010\nEpoch 4/10\n\u001b[1m62/62\u001b[0m \u001b[32m━━━━━━━━━━━━━━━━━━━━\u001b[0m\u001b[37m\u001b[0m \u001b[1m91s\u001b[0m 1s/step - accuracy: 0.9500 - loss: 0.1611 - val_accuracy: 0.9802 - val_loss: 0.0734 - learning_rate: 0.0010\nEpoch 5/10\n\u001b[1m62/62\u001b[0m \u001b[32m━━━━━━━━━━━━━━━━━━━━\u001b[0m\u001b[37m\u001b[0m \u001b[1m90s\u001b[0m 1s/step - accuracy: 0.9661 - loss: 0.1063 - val_accuracy: 0.9668 - val_loss: 0.1072 - learning_rate: 0.0010\nEpoch 6/10\n\u001b[1m62/62\u001b[0m \u001b[32m━━━━━━━━━━━━━━━━━━━━\u001b[0m\u001b[37m\u001b[0m \u001b[1m90s\u001b[0m 1s/step - accuracy: 0.9729 - loss: 0.0823 - val_accuracy: 0.9859 - val_loss: 0.0529 - learning_rate: 0.0010\nEpoch 7/10\n\u001b[1m62/62\u001b[0m \u001b[32m━━━━━━━━━━━━━━━━━━━━\u001b[0m\u001b[37m\u001b[0m \u001b[1m91s\u001b[0m 1s/step - accuracy: 0.9807 - loss: 0.0610 - val_accuracy: 0.9783 - val_loss: 0.0830 - learning_rate: 0.0010\nEpoch 8/10\n\u001b[1m62/62\u001b[0m \u001b[32m━━━━━━━━━━━━━━━━━━━━\u001b[0m\u001b[37m\u001b[0m \u001b[1m91s\u001b[0m 1s/step - accuracy: 0.9797 - loss: 0.0609 - val_accuracy: 0.9893 - val_loss: 0.0436 - learning_rate: 0.0010\nEpoch 9/10\n\u001b[1m62/62\u001b[0m \u001b[32m━━━━━━━━━━━━━━━━━━━━\u001b[0m\u001b[37m\u001b[0m \u001b[1m91s\u001b[0m 1s/step - accuracy: 0.9865 - loss: 0.0457 - val_accuracy: 0.9889 - val_loss: 0.0380 - learning_rate: 0.0010\nEpoch 10/10\n\u001b[1m62/62\u001b[0m \u001b[32m━━━━━━━━━━━━━━━━━━━━\u001b[0m\u001b[37m\u001b[0m \u001b[1m0s\u001b[0m 1s/step - accuracy: 0.9880 - loss: 0.0390\nEpoch 10: ReduceLROnPlateau reducing learning rate to 0.0005000000237487257.\n\u001b[1m62/62\u001b[0m \u001b[32m━━━━━━━━━━━━━━━━━━━━\u001b[0m\u001b[37m\u001b[0m \u001b[1m92s\u001b[0m 1s/step - accuracy: 0.9880 - loss: 0.0390 - val_accuracy: 0.9889 - val_loss: 0.0425 - learning_rate: 0.0010\n",
          "output_type": "stream"
        },
        {
          "execution_count": 24,
          "output_type": "execute_result",
          "data": {
            "text/plain": "<keras.src.callbacks.history.History at 0x7f99d04f2fe0>"
          },
          "metadata": {}
        }
      ]
    },
    {
      "cell_type": "code",
      "source": [
        "model.evaluate(x_test,y_test)"
      ],
      "metadata": {
        "execution": {
          "iopub.status.busy": "2024-07-28T14:04:43.325431Z",
          "iopub.execute_input": "2024-07-28T14:04:43.325927Z",
          "iopub.status.idle": "2024-07-28T14:04:48.187493Z",
          "shell.execute_reply.started": "2024-07-28T14:04:43.325880Z",
          "shell.execute_reply": "2024-07-28T14:04:48.186399Z"
        },
        "trusted": true,
        "id": "1M3fVKEe6_gE",
        "outputId": "e4f1b9b3-a4e9-40b0-eeb2-68dbbfbe5610"
      },
      "execution_count": null,
      "outputs": [
        {
          "name": "stdout",
          "text": "\u001b[1m82/82\u001b[0m \u001b[32m━━━━━━━━━━━━━━━━━━━━\u001b[0m\u001b[37m\u001b[0m \u001b[1m5s\u001b[0m 58ms/step - accuracy: 0.9886 - loss: 0.0530\n",
          "output_type": "stream"
        },
        {
          "execution_count": 25,
          "output_type": "execute_result",
          "data": {
            "text/plain": "[0.042499661445617676, 0.9889397621154785]"
          },
          "metadata": {}
        }
      ]
    },
    {
      "cell_type": "code",
      "source": [
        "# Save the model architecture to a JSON file\n",
        "model_json = model.to_json()\n",
        "with open(\"model-bw10.json\", \"w\") as json_file:\n",
        "    json_file.write(model_json)\n",
        "\n",
        "# Save the model weights to an H5 file with the correct extension\n",
        "model.save_weights('model-bw10.weights.h5')\n"
      ],
      "metadata": {
        "execution": {
          "iopub.status.busy": "2024-07-28T14:38:20.964094Z",
          "iopub.execute_input": "2024-07-28T14:38:20.964490Z",
          "iopub.status.idle": "2024-07-28T14:38:21.065818Z",
          "shell.execute_reply.started": "2024-07-28T14:38:20.964463Z",
          "shell.execute_reply": "2024-07-28T14:38:21.064721Z"
        },
        "trusted": true,
        "id": "Y2tnT23h6_gE"
      },
      "execution_count": null,
      "outputs": []
    },
    {
      "cell_type": "code",
      "source": [],
      "metadata": {
        "id": "YM8eRanB6_gE"
      },
      "execution_count": null,
      "outputs": []
    }
  ]
}